{
  "nbformat": 4,
  "nbformat_minor": 0,
  "metadata": {
    "colab": {
      "provenance": []
    },
    "kernelspec": {
      "name": "python3",
      "display_name": "Python 3"
    },
    "language_info": {
      "name": "python"
    }
  },
  "cells": [
    {
      "cell_type": "code",
      "source": [
        "pip install pandas"
      ],
      "metadata": {
        "colab": {
          "base_uri": "https://localhost:8080/"
        },
        "id": "CWrBhNqueCDK",
        "outputId": "2962caa8-8734-4de7-c1cf-f782c4eb3c9b"
      },
      "execution_count": 25,
      "outputs": [
        {
          "output_type": "stream",
          "name": "stdout",
          "text": [
            "Requirement already satisfied: pandas in /usr/local/lib/python3.10/dist-packages (2.1.4)\n",
            "Requirement already satisfied: numpy<2,>=1.22.4 in /usr/local/lib/python3.10/dist-packages (from pandas) (1.26.4)\n",
            "Requirement already satisfied: python-dateutil>=2.8.2 in /usr/local/lib/python3.10/dist-packages (from pandas) (2.8.2)\n",
            "Requirement already satisfied: pytz>=2020.1 in /usr/local/lib/python3.10/dist-packages (from pandas) (2024.2)\n",
            "Requirement already satisfied: tzdata>=2022.1 in /usr/local/lib/python3.10/dist-packages (from pandas) (2024.1)\n",
            "Requirement already satisfied: six>=1.5 in /usr/local/lib/python3.10/dist-packages (from python-dateutil>=2.8.2->pandas) (1.16.0)\n"
          ]
        }
      ]
    },
    {
      "cell_type": "code",
      "source": [
        "import pandas as pd"
      ],
      "metadata": {
        "id": "wkcgXKANfFg9"
      },
      "execution_count": 26,
      "outputs": []
    },
    {
      "cell_type": "code",
      "source": [
        "df = pd.read_csv('complaints.csv', on_bad_lines='skip')"
      ],
      "metadata": {
        "id": "e4vxn4RqfH9H"
      },
      "execution_count": 27,
      "outputs": []
    },
    {
      "cell_type": "code",
      "source": [
        "print(df.dtypes)"
      ],
      "metadata": {
        "colab": {
          "base_uri": "https://localhost:8080/"
        },
        "id": "lkOKoB0Dfbrn",
        "outputId": "a65cfc7f-76b9-40a8-f885-831630772983"
      },
      "execution_count": 28,
      "outputs": [
        {
          "output_type": "stream",
          "name": "stdout",
          "text": [
            "Date received                    object\n",
            "Product                          object\n",
            "Sub-product                      object\n",
            "Issue                            object\n",
            "Sub-issue                        object\n",
            "Consumer complaint narrative     object\n",
            "Company public response          object\n",
            "Company                          object\n",
            "State                            object\n",
            "ZIP code                         object\n",
            "Tags                             object\n",
            "Consumer consent provided?       object\n",
            "Submitted via                    object\n",
            "Date sent to company             object\n",
            "Company response to consumer     object\n",
            "Timely response?                 object\n",
            "Consumer disputed?               object\n",
            "Complaint ID                    float64\n",
            "dtype: object\n"
          ]
        }
      ]
    },
    {
      "cell_type": "code",
      "source": [
        "df['Date received'] = pd.to_datetime(df['Date received'])\n",
        "df['Date sent to company'] = pd.to_datetime(df['Date sent to company'])\n"
      ],
      "metadata": {
        "id": "ma3M34BffR9E"
      },
      "execution_count": 29,
      "outputs": []
    },
    {
      "cell_type": "code",
      "source": [
        "print(df.dtypes)\n",
        "print(df.head())"
      ],
      "metadata": {
        "colab": {
          "base_uri": "https://localhost:8080/"
        },
        "id": "gV4A_ulsfWho",
        "outputId": "2ddaee00-d8cd-47a0-85e6-c02932e7cb92"
      },
      "execution_count": 30,
      "outputs": [
        {
          "output_type": "stream",
          "name": "stdout",
          "text": [
            "Date received                   datetime64[ns]\n",
            "Product                                 object\n",
            "Sub-product                             object\n",
            "Issue                                   object\n",
            "Sub-issue                               object\n",
            "Consumer complaint narrative            object\n",
            "Company public response                 object\n",
            "Company                                 object\n",
            "State                                   object\n",
            "ZIP code                                object\n",
            "Tags                                    object\n",
            "Consumer consent provided?              object\n",
            "Submitted via                           object\n",
            "Date sent to company            datetime64[ns]\n",
            "Company response to consumer            object\n",
            "Timely response?                        object\n",
            "Consumer disputed?                      object\n",
            "Complaint ID                           float64\n",
            "dtype: object\n",
            "  Date received                                            Product  \\\n",
            "0    2024-09-13                              Vehicle loan or lease   \n",
            "1    2024-09-13                                           Mortgage   \n",
            "2    2024-09-13                        Checking or savings account   \n",
            "3    2024-08-14  Credit reporting or other personal consumer re...   \n",
            "4    2024-09-14  Credit reporting or other personal consumer re...   \n",
            "\n",
            "                        Sub-product  \\\n",
            "0                              Loan   \n",
            "1        Conventional home mortgage   \n",
            "2  Other banking product or service   \n",
            "3                  Credit reporting   \n",
            "4                  Credit reporting   \n",
            "\n",
            "                                               Issue  \\\n",
            "0                         Managing the loan or lease   \n",
            "1  Applying for a mortgage or refinancing an exis...   \n",
            "2             Problem caused by your funds being low   \n",
            "3               Incorrect information on your report   \n",
            "4  Problem with a company's investigation into an...   \n",
            "\n",
            "                                           Sub-issue  \\\n",
            "0                                    Billing problem   \n",
            "1                                Application denials   \n",
            "2                      Overdrafts and overdraft fees   \n",
            "3                           Account status incorrect   \n",
            "4  Their investigation did not fix an error on yo...   \n",
            "\n",
            "  Consumer complaint narrative  \\\n",
            "0                          NaN   \n",
            "1                          NaN   \n",
            "2                          NaN   \n",
            "3                          NaN   \n",
            "4                          NaN   \n",
            "\n",
            "                             Company public response  \\\n",
            "0                                                NaN   \n",
            "1                                                NaN   \n",
            "2                                                NaN   \n",
            "3  Company has responded to the consumer and the ...   \n",
            "4                                                NaN   \n",
            "\n",
            "                                  Company State ZIP code Tags  \\\n",
            "0            SANTANDER HOLDINGS USA, INC.    OH    44483  NaN   \n",
            "1                           DISCOVER BANK    MO    65802  NaN   \n",
            "2                            U.S. BANCORP    IL    60636  NaN   \n",
            "3  TRANSUNION INTERMEDIATE HOLDINGS, INC.    PA    18109  NaN   \n",
            "4            TRUIST FINANCIAL CORPORATION    CA    90250  NaN   \n",
            "\n",
            "  Consumer consent provided? Submitted via Date sent to company  \\\n",
            "0                        NaN           Web           2024-09-13   \n",
            "1                        NaN           Web           2024-09-13   \n",
            "2                        NaN           Web           2024-09-13   \n",
            "3       Consent not provided           Web           2024-08-14   \n",
            "4                        NaN           Web           2024-09-14   \n",
            "\n",
            "      Company response to consumer Timely response? Consumer disputed?  \\\n",
            "0          Closed with explanation              Yes                NaN   \n",
            "1                      In progress              Yes                NaN   \n",
            "2                      In progress              Yes                NaN   \n",
            "3  Closed with non-monetary relief              Yes                NaN   \n",
            "4                      In progress              Yes                NaN   \n",
            "\n",
            "   Complaint ID  \n",
            "0    10126612.0  \n",
            "1    10126261.0  \n",
            "2    10126624.0  \n",
            "3     9801027.0  \n",
            "4    10127363.0  \n"
          ]
        }
      ]
    },
    {
      "cell_type": "code",
      "source": [
        "df['Time taken for response'] = (df['Date sent to company'] - df['Date received']).dt.total_seconds()"
      ],
      "metadata": {
        "id": "c4VpEOUkgO43"
      },
      "execution_count": 34,
      "outputs": []
    },
    {
      "cell_type": "code",
      "source": [
        "df['Consumer Disputed'] = df['Consumer disputed?'].apply(lambda x: 1 if x == 'Yes' else 0)"
      ],
      "metadata": {
        "id": "uDMyj3aLgVE4"
      },
      "execution_count": 35,
      "outputs": []
    },
    {
      "cell_type": "code",
      "source": [
        "print(df[['Date received', 'Date sent to company', 'Time taken for response',\n",
        "           'Consumer Disputed']].head())"
      ],
      "metadata": {
        "colab": {
          "base_uri": "https://localhost:8080/"
        },
        "id": "dkteuMI4gWIP",
        "outputId": "cace9bf2-b198-49a5-8af1-f69185d249ca"
      },
      "execution_count": 36,
      "outputs": [
        {
          "output_type": "stream",
          "name": "stdout",
          "text": [
            "  Date received Date sent to company  Time taken for response  \\\n",
            "0    2024-09-13           2024-09-13                      0.0   \n",
            "1    2024-09-13           2024-09-13                      0.0   \n",
            "2    2024-09-13           2024-09-13                      0.0   \n",
            "3    2024-08-14           2024-08-14                      0.0   \n",
            "4    2024-09-14           2024-09-14                      0.0   \n",
            "\n",
            "   Consumer Disputed  \n",
            "0                  0  \n",
            "1                  0  \n",
            "2                  0  \n",
            "3                  0  \n",
            "4                  0  \n"
          ]
        }
      ]
    }
  ]
}